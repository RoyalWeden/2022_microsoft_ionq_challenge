{
 "cells": [
  {
   "cell_type": "markdown",
   "metadata": {},
   "source": [
    "# Import Libraries"
   ]
  },
  {
   "cell_type": "code",
   "execution_count": 9,
   "metadata": {},
   "outputs": [],
   "source": [
    "from qiskit import QuantumCircuit\n",
    "from qiskit.visualization import plot_histogram\n",
    "import numpy as np\n",
    "from qiskit.tools.monitor import job_monitor\n",
    "from azure.quantum.qiskit import AzureQuantumProvider\n",
    "import IPython.display"
   ]
  },
  {
   "cell_type": "markdown",
   "metadata": {},
   "source": [
    "# Connect to Azure Quantum service"
   ]
  },
  {
   "cell_type": "code",
   "execution_count": 10,
   "metadata": {},
   "outputs": [],
   "source": [
    "provider = AzureQuantumProvider (\n",
    "    resource_id = \"/subscriptions/b1d7f7f8-743f-458e-b3a0-3e09734d716d/resourceGroups/aq-hackathons/providers/Microsoft.Quantum/Workspaces/aq-hackathon-01\",\n",
    "    location = \"eastus\"\n",
    ")"
   ]
  },
  {
   "cell_type": "code",
   "execution_count": 11,
   "metadata": {},
   "outputs": [
    {
     "name": "stdout",
     "output_type": "stream",
     "text": [
      "['ionq.qpu', 'ionq.simulator']\n"
     ]
    }
   ],
   "source": [
    "\"\"\"\n",
    "Printing possible user backends with options:\n",
    "1 - Quantum Simulator \n",
    "2 - Quantum Processing Unit\n",
    "\"\"\"\n",
    "print([backend.name() for backend in provider.backends()])"
   ]
  },
  {
   "cell_type": "code",
   "execution_count": 12,
   "metadata": {},
   "outputs": [],
   "source": [
    "sim = provider.get_backend('ionq.simulator')"
   ]
  },
  {
   "cell_type": "markdown",
   "metadata": {},
   "source": [
    "# Tic Tac Toe Game"
   ]
  },
  {
   "cell_type": "code",
   "execution_count": 13,
   "metadata": {},
   "outputs": [],
   "source": [
    "def display_board(board_visual:list):\n",
    "    \"\"\"To visualize the board, this is called. Numbered squares follow the standard phone number pattern of increasing left to right and down.\"\"\"\n",
    "    print(f'''\n",
    "    Current Board:\n",
    "     {board_visual[0]} | {board_visual[1]} | {board_visual[2]} \n",
    "    -----------------\n",
    "     {board_visual[3]} | {board_visual[4]} | {board_visual[5]} \n",
    "    -----------------\n",
    "     {board_visual[6]} | {board_visual[7]} | {board_visual[8]}  ''')"
   ]
  },
  {
   "cell_type": "code",
   "execution_count": 1,
   "metadata": {
    "collapsed": false,
    "jupyter": {
     "outputs_hidden": false,
     "source_hidden": false
    },
    "nteract": {
     "transient": {
      "deleting": false
     }
    }
   },
   "outputs": [],
   "source": [
    "def get_victor(board:list):\n",
    "    \"\"\"3 Consecutive squares wins. Returns value in the winning square or None.\"\"\"\n",
    "    if board[0] == board[1] == board[2] or board[0] == board[4] == board[8] or board[0] == board[3] == board[6]:\n",
    "        return board[0]\n",
    "    elif board[1] == board[4] == board[7]:\n",
    "        return board[1]\n",
    "    elif board[2] == board[4] == board[6] or board[2] == board[5] == board[8]:\n",
    "        return board[2]\n",
    "    elif board[3] == board[4] == board[5]:\n",
    "        return board[3]\n",
    "    elif board[6] == board[7] == board[8]:\n",
    "        return board[6]\n",
    "    else:\n",
    "        return None"
   ]
  },
  {
   "cell_type": "code",
   "execution_count": 15,
   "metadata": {},
   "outputs": [],
   "source": [
    "def play(backend, shots):\n",
    "    # Create the Tic Tac Toe game board with 9 qubits and 9 classical bits\n",
    "    board = QuantumCircuit(9,9)\n",
    "    board_visual = ['   ','   ','   ','   ','   ','   ','   ','   ','   ']\n",
    "    available_moves = ['0','1','2','3','4','5','6','7','8']\n",
    "\n",
    "    player1Value = input('Player 1, will you be 1\\'s or 0\\'s? ')\n",
    "\n",
    "    # Make sure player 1 input correct value\n",
    "    while player1Value not in ['0','1']:\n",
    "        player1Value = input('Player 1, will you be 1\\'s or 0\\'s? ')\n",
    "\n",
    "    player2Value = '1' if player1Value == '0' else '0'\n",
    "\n",
    "    print('''\n",
    "    Please select squares with the indicated numbers:\n",
    "      0  |  1  |  2 \n",
    "    -----------------\n",
    "      3  |  4  |  5 \n",
    "    -----------------\n",
    "      6  |  7  |  8  ''')\n",
    "\n",
    "    # Run player moves\n",
    "    while len(available_moves) > 0:\n",
    "        # Player 1's Turn\n",
    "        player1MovePosition = input('Player 1, where would you like to move? ')\n",
    "\n",
    "        # Make sure player 1 input correct value\n",
    "        while player1MovePosition not in available_moves:\n",
    "            player1MovePosition = input('Player 1, where would you like to move? ')\n",
    "\n",
    "        available_moves.remove(player1MovePosition)\n",
    "        \n",
    "        if player1Value == '1':\n",
    "            board.x(int(player1MovePosition))\n",
    "            board_visual[int(player1MovePosition)] = '|1>'\n",
    "        else:\n",
    "            board_visual[int(player1MovePosition)] = '|0>'\n",
    "\n",
    "\n",
    "        display_board(board_visual)\n",
    "\n",
    "        if len(available_moves) == 0:\n",
    "            break\n",
    "\n",
    "        # Player 2's Turn\n",
    "        player2MovePosition = input('Player 2, where would you like to move? ')\n",
    "\n",
    "        # Make sure player 2 input correct value\n",
    "        while player2MovePosition not in available_moves:\n",
    "            player2MovePosition = input('Player 2, where would you like to move? ')\n",
    "\n",
    "        available_moves.remove(player2MovePosition)\n",
    "        \n",
    "        if player2Value == '1':\n",
    "            board.x(int(player2MovePosition))\n",
    "            board_visual[int(player2MovePosition)] = '|1>'\n",
    "        else:\n",
    "            board_visual[int(player2MovePosition)] = '|0>'\n",
    "\n",
    "        display_board(board_visual)\n",
    "\n",
    "    # Measure all qubits and display the circuit\n",
    "    board.measure(range(9),range(9))\n",
    "    display(board.draw())\n",
    "\n",
    "    # Run quantum circuit\n",
    "    job = backend.run(board, shots=shots)\n",
    "    job_id = job.id()\n",
    "    print(f'\\nJob id: {job_id}')\n",
    "\n",
    "    # Monitor job to run\n",
    "    job_monitor(job)\n",
    "\n",
    "    # Get job results\n",
    "    result = job.result()\n",
    "    counts = result.get_counts()\n",
    "    display(plot_histogram(counts))\n",
    "    sorted_counts = sorted(counts.items(), key=lambda x: x[1], reverse=True)\n",
    "    top_count_board = []\n",
    "    top_count_board[:0] = sorted_counts[0][0]\n",
    "    print(top_count_board)\n",
    "\n",
    "    # Determine victor\n",
    "    victor = get_victor(top_count_board)\n",
    "    if victor == player1Value:\n",
    "        print('Player 1 won the match!')\n",
    "    elif victor == player2Value:\n",
    "        print('Player 2 won the match!')\n",
    "    else:\n",
    "        print('This match was a tie.')\n",
    "\n",
    "\n",
    "    "
   ]
  },
  {
   "cell_type": "code",
   "execution_count": 16,
   "metadata": {},
   "outputs": [
    {
     "name": "stdout",
     "output_type": "stream",
     "text": [
      "\n",
      "    Please select squares with the indicated numbers:\n",
      "      0  |  1  |  2 \n",
      "    -----------------\n",
      "      3  |  4  |  5 \n",
      "    -----------------\n",
      "      6  |  7  |  8  \n",
      "\n",
      "    Current Board:\n",
      "     |1> |     |     \n",
      "    -----------------\n",
      "         |     |     \n",
      "    -----------------\n",
      "         |     |      \n",
      "\n",
      "    Current Board:\n",
      "     |1> | |0> |     \n",
      "    -----------------\n",
      "         |     |     \n",
      "    -----------------\n",
      "         |     |      \n",
      "\n",
      "    Current Board:\n",
      "     |1> | |0> |     \n",
      "    -----------------\n",
      "         | |1> |     \n",
      "    -----------------\n",
      "         |     |      \n",
      "\n",
      "    Current Board:\n",
      "     |1> | |0> |     \n",
      "    -----------------\n",
      "         | |1> | |0> \n",
      "    -----------------\n",
      "         |     |      \n",
      "\n",
      "    Current Board:\n",
      "     |1> | |0> |     \n",
      "    -----------------\n",
      "         | |1> | |0> \n",
      "    -----------------\n",
      "         |     | |1>  \n",
      "\n",
      "    Current Board:\n",
      "     |1> | |0> |     \n",
      "    -----------------\n",
      "     |0> | |1> | |0> \n",
      "    -----------------\n",
      "         |     | |1>  \n",
      "\n",
      "    Current Board:\n",
      "     |1> | |0> | |1> \n",
      "    -----------------\n",
      "     |0> | |1> | |0> \n",
      "    -----------------\n",
      "         |     | |1>  \n",
      "\n",
      "    Current Board:\n",
      "     |1> | |0> | |1> \n",
      "    -----------------\n",
      "     |0> | |1> | |0> \n",
      "    -----------------\n",
      "     |0> |     | |1>  \n",
      "\n",
      "    Current Board:\n",
      "     |1> | |0> | |1> \n",
      "    -----------------\n",
      "     |0> | |1> | |0> \n",
      "    -----------------\n",
      "     |0> | |1> | |1>  \n"
     ]
    },
    {
     "data": {
      "text/html": [
       "<pre style=\"word-wrap: normal;white-space: pre;background: #fff0;line-height: 1.1;font-family: &quot;Courier New&quot;,Courier,monospace\">     ┌───┐            ┌─┐            \n",
       "q_0: ┤ X ├────────────┤M├────────────\n",
       "     └───┘┌─┐         └╥┘            \n",
       "q_1: ─────┤M├──────────╫─────────────\n",
       "     ┌───┐└╥┘          ║ ┌─┐         \n",
       "q_2: ┤ X ├─╫───────────╫─┤M├─────────\n",
       "     └───┘ ║ ┌─┐       ║ └╥┘         \n",
       "q_3: ──────╫─┤M├───────╫──╫──────────\n",
       "     ┌───┐ ║ └╥┘       ║  ║ ┌─┐      \n",
       "q_4: ┤ X ├─╫──╫────────╫──╫─┤M├──────\n",
       "     └───┘ ║  ║ ┌─┐    ║  ║ └╥┘      \n",
       "q_5: ──────╫──╫─┤M├────╫──╫──╫───────\n",
       "           ║  ║ └╥┘┌─┐ ║  ║  ║       \n",
       "q_6: ──────╫──╫──╫─┤M├─╫──╫──╫───────\n",
       "     ┌───┐ ║  ║  ║ └╥┘ ║  ║  ║ ┌─┐   \n",
       "q_7: ┤ X ├─╫──╫──╫──╫──╫──╫──╫─┤M├───\n",
       "     ├───┤ ║  ║  ║  ║  ║  ║  ║ └╥┘┌─┐\n",
       "q_8: ┤ X ├─╫──╫──╫──╫──╫──╫──╫──╫─┤M├\n",
       "     └───┘ ║  ║  ║  ║  ║  ║  ║  ║ └╥┘\n",
       "c: 9/══════╩══╩══╩══╩══╩══╩══╩══╩══╩═\n",
       "           1  3  5  6  0  2  4  7  8 </pre>"
      ],
      "text/plain": [
       "     ┌───┐            ┌─┐            \n",
       "q_0: ┤ X ├────────────┤M├────────────\n",
       "     └───┘┌─┐         └╥┘            \n",
       "q_1: ─────┤M├──────────╫─────────────\n",
       "     ┌───┐└╥┘          ║ ┌─┐         \n",
       "q_2: ┤ X ├─╫───────────╫─┤M├─────────\n",
       "     └───┘ ║ ┌─┐       ║ └╥┘         \n",
       "q_3: ──────╫─┤M├───────╫──╫──────────\n",
       "     ┌───┐ ║ └╥┘       ║  ║ ┌─┐      \n",
       "q_4: ┤ X ├─╫──╫────────╫──╫─┤M├──────\n",
       "     └───┘ ║  ║ ┌─┐    ║  ║ └╥┘      \n",
       "q_5: ──────╫──╫─┤M├────╫──╫──╫───────\n",
       "           ║  ║ └╥┘┌─┐ ║  ║  ║       \n",
       "q_6: ──────╫──╫──╫─┤M├─╫──╫──╫───────\n",
       "     ┌───┐ ║  ║  ║ └╥┘ ║  ║  ║ ┌─┐   \n",
       "q_7: ┤ X ├─╫──╫──╫──╫──╫──╫──╫─┤M├───\n",
       "     ├───┤ ║  ║  ║  ║  ║  ║  ║ └╥┘┌─┐\n",
       "q_8: ┤ X ├─╫──╫──╫──╫──╫──╫──╫──╫─┤M├\n",
       "     └───┘ ║  ║  ║  ║  ║  ║  ║  ║ └╥┘\n",
       "c: 9/══════╩══╩══╩══╩══╩══╩══╩══╩══╩═\n",
       "           1  3  5  6  0  2  4  7  8 "
      ]
     },
     "metadata": {},
     "output_type": "display_data"
    },
    {
     "name": "stdout",
     "output_type": "stream",
     "text": [
      "\n",
      "Job id: 2082c900-8142-11ec-8689-00155d929cd0\n",
      "Job Status: job has successfully run\n"
     ]
    },
    {
     "data": {
      "image/png": "[encoded data removed]",
      "text/plain": [
       "<Figure size 504x360 with 1 Axes>"
      ]
     },
     "metadata": {},
     "output_type": "display_data"
    },
    {
     "name": "stdout",
     "output_type": "stream",
     "text": [
      "['1', '1', '0', '0', '1', '0', '1', '0', '1']\n",
      "Player 1 won the match!\n"
     ]
    }
   ],
   "source": [
    "play(backend=sim, shots=1024)"
   ]
  }
 ],
 "metadata": {
  "interpreter": {
   "hash": "9bf743333e41296147f6a175b2ffd0bcec11fd937fe5651b295727fd77246a74"
  },
  "kernel_info": {
   "name": "python3"
  },
  "kernelspec": {
   "display_name": "Python 3 (ipykernel)",
   "language": "python",
   "name": "python3"
  },
  "language_info": {
   "codemirror_mode": {
    "name": "ipython",
    "version": 3
   },
   "file_extension": ".py",
   "mimetype": "text/x-python",
   "name": "python",
   "nbconvert_exporter": "python",
   "pygments_lexer": "ipython3",
   "version": "3.9.7"
  },
  "nteract": {
   "version": "nteract-front-end@1.0.0"
  }
 },
 "nbformat": 4,
 "nbformat_minor": 4
}
